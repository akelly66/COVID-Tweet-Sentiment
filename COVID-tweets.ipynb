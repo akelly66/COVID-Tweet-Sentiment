{
 "cells": [
  {
   "cell_type": "markdown",
   "metadata": {},
   "source": [
    "# Sentiment Analysis of COVID-19 Tweets: When did the Public Panic Set In?"
   ]
  },
  {
   "cell_type": "code",
   "execution_count": 8,
   "metadata": {
    "ExecuteTime": {
     "end_time": "2020-04-30T21:39:50.489228Z",
     "start_time": "2020-04-30T21:39:50.432655Z"
    }
   },
   "outputs": [],
   "source": [
    "import pandas as pd\n",
    "import json\n",
    "import tweepy"
   ]
  },
  {
   "cell_type": "code",
   "execution_count": 10,
   "metadata": {
    "ExecuteTime": {
     "end_time": "2020-04-30T21:57:52.125866Z",
     "start_time": "2020-04-30T21:57:52.119671Z"
    }
   },
   "outputs": [],
   "source": [
    "# loading API keys from JSON file\n",
    "def get_keys(path):\n",
    "    with open(path) as f:\n",
    "        return json.load(f)\n",
    "\n",
    "keys = get_keys(\"/Users/Allie/Documents/DS-Projects/COVID-Tweet-Sentiment/.secret/twitter_api.json\")"
   ]
  },
  {
   "cell_type": "code",
   "execution_count": 26,
   "metadata": {
    "ExecuteTime": {
     "end_time": "2020-04-30T22:07:26.668061Z",
     "start_time": "2020-04-30T22:07:26.663177Z"
    }
   },
   "outputs": [],
   "source": [
    "api_key = keys['api key']\n",
    "api_secret = keys['api secret key']\n",
    "access_token = keys['access token']\n",
    "access_secret = keys['access token secret']"
   ]
  },
  {
   "cell_type": "code",
   "execution_count": 32,
   "metadata": {
    "ExecuteTime": {
     "end_time": "2020-04-30T22:09:36.001862Z",
     "start_time": "2020-04-30T22:09:35.797734Z"
    }
   },
   "outputs": [],
   "source": [
    "# Create OAuth 2 Handler Instance\n",
    "auth = tweepy.AppAuthHandler(api_key, api_secret)"
   ]
  },
  {
   "cell_type": "code",
   "execution_count": 21,
   "metadata": {
    "ExecuteTime": {
     "end_time": "2020-04-30T22:04:06.548974Z",
     "start_time": "2020-04-30T22:04:06.236223Z"
    }
   },
   "outputs": [],
   "source": [
    "# Request token from Twitter\n",
    "try:\n",
    "    redirect_url = auth.get_authorization_url()\n",
    "except tweepy.TweepError:\n",
    "    print('Error! Failed to get request token.')"
   ]
  },
  {
   "cell_type": "code",
   "execution_count": 34,
   "metadata": {
    "ExecuteTime": {
     "end_time": "2020-04-30T22:09:57.116149Z",
     "start_time": "2020-04-30T22:09:57.109826Z"
    }
   },
   "outputs": [],
   "source": [
    "api = tweepy.API(auth)"
   ]
  },
  {
   "cell_type": "code",
   "execution_count": 35,
   "metadata": {
    "ExecuteTime": {
     "end_time": "2020-04-30T22:10:07.143864Z",
     "start_time": "2020-04-30T22:10:06.791462Z"
    }
   },
   "outputs": [
    {
     "name": "stdout",
     "output_type": "stream",
     "text": [
      "tweepy + oauth!\n",
      "tweepy + oauth!\n",
      "Automatic post from Tweepy personal script. :-)\n",
      "\n",
      "30.04.2020 18:20:10\n",
      "Sending my first tweet via Tweepy!\n",
      "Learn To Build Twitter Bot With Tweepy\n",
      "Learn About Access Token, Keys And It's Usage\n",
      "Deploy Bot Online And Run 24/7… https://t.co/kjAiCiooOi\n",
      "tweepy\n",
      "RT @riadkaced: @LyesOnena You are welcome. Here is a nice page for you to start with. But first you need to apply for a developer account w…\n",
      "@LyesOnena You are welcome. Here is a nice page for you to start with. But first you need to apply for a developer… https://t.co/0yyHdzGz1T\n",
      "RT @riadkaced: @LyesOnena Python. Twitter provides a python API for developpers and I use the Tweepy Python library to interact with it. ht…\n",
      "@LyesOnena Python. Twitter provides a python API for developpers and I use the Tweepy Python library to interact wi… https://t.co/n8DwDfUEnK\n"
     ]
    }
   ],
   "source": [
    "for tweet in tweepy.Cursor(api.search, q='tweepy').items(10):\n",
    "    print(tweet.text)"
   ]
  },
  {
   "cell_type": "code",
   "execution_count": 39,
   "metadata": {
    "ExecuteTime": {
     "end_time": "2020-04-30T22:13:31.344389Z",
     "start_time": "2020-04-30T22:13:31.338359Z"
    }
   },
   "outputs": [],
   "source": [
    "def limit_handled(cursor):\n",
    "    while True:\n",
    "        try:\n",
    "            yield cursor.next()\n",
    "        except tweepy.RateLimitError:\n",
    "            time.sleep(15 * 60)"
   ]
  },
  {
   "cell_type": "code",
   "execution_count": null,
   "metadata": {},
   "outputs": [],
   "source": []
  }
 ],
 "metadata": {
  "kernelspec": {
   "display_name": "Python 3",
   "language": "python",
   "name": "python3"
  },
  "language_info": {
   "codemirror_mode": {
    "name": "ipython",
    "version": 3
   },
   "file_extension": ".py",
   "mimetype": "text/x-python",
   "name": "python",
   "nbconvert_exporter": "python",
   "pygments_lexer": "ipython3",
   "version": "3.7.3"
  },
  "toc": {
   "base_numbering": 1,
   "nav_menu": {},
   "number_sections": true,
   "sideBar": true,
   "skip_h1_title": false,
   "title_cell": "Table of Contents",
   "title_sidebar": "Contents",
   "toc_cell": false,
   "toc_position": {},
   "toc_section_display": true,
   "toc_window_display": false
  }
 },
 "nbformat": 4,
 "nbformat_minor": 4
}
