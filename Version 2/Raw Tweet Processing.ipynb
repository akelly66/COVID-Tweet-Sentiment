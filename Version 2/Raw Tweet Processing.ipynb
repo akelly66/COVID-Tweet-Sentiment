{
 "cells": [
  {
   "cell_type": "code",
   "execution_count": 20,
   "metadata": {
    "ExecuteTime": {
     "end_time": "2020-10-12T23:35:42.158687Z",
     "start_time": "2020-10-12T23:35:42.152282Z"
    }
   },
   "outputs": [],
   "source": [
    "import pandas as pd\n",
    "import ast\n",
    "from nltk.tokenize import TweetTokenizer\n",
    "from vaderSentiment.vaderSentiment import SentimentIntensityAnalyzer"
   ]
  },
  {
   "cell_type": "code",
   "execution_count": 21,
   "metadata": {
    "ExecuteTime": {
     "end_time": "2020-10-12T23:35:43.486440Z",
     "start_time": "2020-10-12T23:35:42.837234Z"
    }
   },
   "outputs": [
    {
     "data": {
      "text/html": [
       "<div>\n",
       "<style scoped>\n",
       "    .dataframe tbody tr th:only-of-type {\n",
       "        vertical-align: middle;\n",
       "    }\n",
       "\n",
       "    .dataframe tbody tr th {\n",
       "        vertical-align: top;\n",
       "    }\n",
       "\n",
       "    .dataframe thead th {\n",
       "        text-align: right;\n",
       "    }\n",
       "</style>\n",
       "<table border=\"1\" class=\"dataframe\">\n",
       "  <thead>\n",
       "    <tr style=\"text-align: right;\">\n",
       "      <th></th>\n",
       "      <th>contributors</th>\n",
       "      <th>coordinates</th>\n",
       "      <th>created_at</th>\n",
       "      <th>display_text_range</th>\n",
       "      <th>entities</th>\n",
       "      <th>extended_entities</th>\n",
       "      <th>extended_tweet</th>\n",
       "      <th>favorite_count</th>\n",
       "      <th>favorited</th>\n",
       "      <th>filter_level</th>\n",
       "      <th>...</th>\n",
       "      <th>quoted_status_id_str</th>\n",
       "      <th>quoted_status_permalink</th>\n",
       "      <th>reply_count</th>\n",
       "      <th>retweet_count</th>\n",
       "      <th>retweeted</th>\n",
       "      <th>retweeted_status</th>\n",
       "      <th>source</th>\n",
       "      <th>text</th>\n",
       "      <th>truncated</th>\n",
       "      <th>user</th>\n",
       "    </tr>\n",
       "  </thead>\n",
       "  <tbody>\n",
       "    <tr>\n",
       "      <th>0</th>\n",
       "      <td>NaN</td>\n",
       "      <td>NaN</td>\n",
       "      <td>Fri Jan 31 23:58:59 +0000 2020</td>\n",
       "      <td>NaN</td>\n",
       "      <td>{'hashtags': [], 'urls': [{'url': 'https://t.c...</td>\n",
       "      <td>NaN</td>\n",
       "      <td>NaN</td>\n",
       "      <td>0</td>\n",
       "      <td>False</td>\n",
       "      <td>low</td>\n",
       "      <td>...</td>\n",
       "      <td>NaN</td>\n",
       "      <td>NaN</td>\n",
       "      <td>0</td>\n",
       "      <td>0</td>\n",
       "      <td>False</td>\n",
       "      <td>{'created_at': 'Fri Jan 31 23:30:08 +0000 2020...</td>\n",
       "      <td>&lt;a href=\"http://twitter.com/download/iphone\" r...</td>\n",
       "      <td>RT @CNN: There have been more than 9,800 cases...</td>\n",
       "      <td>False</td>\n",
       "      <td>{'id': 292918761, 'id_str': '292918761', 'name...</td>\n",
       "    </tr>\n",
       "    <tr>\n",
       "      <th>1</th>\n",
       "      <td>NaN</td>\n",
       "      <td>NaN</td>\n",
       "      <td>Fri Jan 31 23:58:59 +0000 2020</td>\n",
       "      <td>NaN</td>\n",
       "      <td>{'hashtags': [], 'urls': [], 'user_mentions': ...</td>\n",
       "      <td>NaN</td>\n",
       "      <td>NaN</td>\n",
       "      <td>0</td>\n",
       "      <td>False</td>\n",
       "      <td>low</td>\n",
       "      <td>...</td>\n",
       "      <td>NaN</td>\n",
       "      <td>NaN</td>\n",
       "      <td>0</td>\n",
       "      <td>0</td>\n",
       "      <td>False</td>\n",
       "      <td>{'created_at': 'Fri Jan 31 22:19:00 +0000 2020...</td>\n",
       "      <td>&lt;a href=\"http://twitter.com/download/iphone\" r...</td>\n",
       "      <td>RT @JaneLytv: 43. Zero Hedge, a pro-Trump webs...</td>\n",
       "      <td>False</td>\n",
       "      <td>{'id': 262334207, 'id_str': '262334207', 'name...</td>\n",
       "    </tr>\n",
       "    <tr>\n",
       "      <th>2</th>\n",
       "      <td>NaN</td>\n",
       "      <td>NaN</td>\n",
       "      <td>Fri Jan 31 23:58:59 +0000 2020</td>\n",
       "      <td>NaN</td>\n",
       "      <td>{'hashtags': [], 'urls': [], 'user_mentions': ...</td>\n",
       "      <td>NaN</td>\n",
       "      <td>NaN</td>\n",
       "      <td>0</td>\n",
       "      <td>False</td>\n",
       "      <td>low</td>\n",
       "      <td>...</td>\n",
       "      <td>NaN</td>\n",
       "      <td>NaN</td>\n",
       "      <td>0</td>\n",
       "      <td>0</td>\n",
       "      <td>False</td>\n",
       "      <td>{'created_at': 'Fri Jan 31 21:08:39 +0000 2020...</td>\n",
       "      <td>&lt;a href=\"http://twitter.com/download/iphone\" r...</td>\n",
       "      <td>RT @skarlamangla: This flu season has killed 1...</td>\n",
       "      <td>False</td>\n",
       "      <td>{'id': 2451840349, 'id_str': '2451840349', 'na...</td>\n",
       "    </tr>\n",
       "    <tr>\n",
       "      <th>3</th>\n",
       "      <td>NaN</td>\n",
       "      <td>NaN</td>\n",
       "      <td>Fri Jan 31 23:58:59 +0000 2020</td>\n",
       "      <td>NaN</td>\n",
       "      <td>{'hashtags': [], 'urls': [], 'user_mentions': ...</td>\n",
       "      <td>NaN</td>\n",
       "      <td>NaN</td>\n",
       "      <td>0</td>\n",
       "      <td>False</td>\n",
       "      <td>low</td>\n",
       "      <td>...</td>\n",
       "      <td>NaN</td>\n",
       "      <td>NaN</td>\n",
       "      <td>0</td>\n",
       "      <td>0</td>\n",
       "      <td>False</td>\n",
       "      <td>{'created_at': 'Fri Jan 31 05:06:49 +0000 2020...</td>\n",
       "      <td>&lt;a href=\"http://twitter.com/download/iphone\" r...</td>\n",
       "      <td>RT @jamesmassola: Medical experts raise concer...</td>\n",
       "      <td>False</td>\n",
       "      <td>{'id': 513208128, 'id_str': '513208128', 'name...</td>\n",
       "    </tr>\n",
       "    <tr>\n",
       "      <th>4</th>\n",
       "      <td>NaN</td>\n",
       "      <td>NaN</td>\n",
       "      <td>Fri Jan 31 23:58:59 +0000 2020</td>\n",
       "      <td>NaN</td>\n",
       "      <td>{'hashtags': [], 'urls': [], 'user_mentions': ...</td>\n",
       "      <td>NaN</td>\n",
       "      <td>NaN</td>\n",
       "      <td>0</td>\n",
       "      <td>False</td>\n",
       "      <td>low</td>\n",
       "      <td>...</td>\n",
       "      <td>NaN</td>\n",
       "      <td>NaN</td>\n",
       "      <td>0</td>\n",
       "      <td>0</td>\n",
       "      <td>False</td>\n",
       "      <td>{'created_at': 'Fri Jan 31 01:27:50 +0000 2020...</td>\n",
       "      <td>&lt;a href=\"http://twitter.com/download/iphone\" r...</td>\n",
       "      <td>RT @popplioikawa: the flu: *results in 500,000...</td>\n",
       "      <td>False</td>\n",
       "      <td>{'id': 993138436667314176, 'id_str': '99313843...</td>\n",
       "    </tr>\n",
       "  </tbody>\n",
       "</table>\n",
       "<p>5 rows × 36 columns</p>\n",
       "</div>"
      ],
      "text/plain": [
       "   contributors  coordinates                      created_at  \\\n",
       "0           NaN          NaN  Fri Jan 31 23:58:59 +0000 2020   \n",
       "1           NaN          NaN  Fri Jan 31 23:58:59 +0000 2020   \n",
       "2           NaN          NaN  Fri Jan 31 23:58:59 +0000 2020   \n",
       "3           NaN          NaN  Fri Jan 31 23:58:59 +0000 2020   \n",
       "4           NaN          NaN  Fri Jan 31 23:58:59 +0000 2020   \n",
       "\n",
       "  display_text_range                                           entities  \\\n",
       "0                NaN  {'hashtags': [], 'urls': [{'url': 'https://t.c...   \n",
       "1                NaN  {'hashtags': [], 'urls': [], 'user_mentions': ...   \n",
       "2                NaN  {'hashtags': [], 'urls': [], 'user_mentions': ...   \n",
       "3                NaN  {'hashtags': [], 'urls': [], 'user_mentions': ...   \n",
       "4                NaN  {'hashtags': [], 'urls': [], 'user_mentions': ...   \n",
       "\n",
       "  extended_entities extended_tweet  favorite_count  favorited filter_level  \\\n",
       "0               NaN            NaN               0      False          low   \n",
       "1               NaN            NaN               0      False          low   \n",
       "2               NaN            NaN               0      False          low   \n",
       "3               NaN            NaN               0      False          low   \n",
       "4               NaN            NaN               0      False          low   \n",
       "\n",
       "   ...  quoted_status_id_str  quoted_status_permalink  reply_count  \\\n",
       "0  ...                   NaN                      NaN            0   \n",
       "1  ...                   NaN                      NaN            0   \n",
       "2  ...                   NaN                      NaN            0   \n",
       "3  ...                   NaN                      NaN            0   \n",
       "4  ...                   NaN                      NaN            0   \n",
       "\n",
       "  retweet_count  retweeted                                   retweeted_status  \\\n",
       "0             0      False  {'created_at': 'Fri Jan 31 23:30:08 +0000 2020...   \n",
       "1             0      False  {'created_at': 'Fri Jan 31 22:19:00 +0000 2020...   \n",
       "2             0      False  {'created_at': 'Fri Jan 31 21:08:39 +0000 2020...   \n",
       "3             0      False  {'created_at': 'Fri Jan 31 05:06:49 +0000 2020...   \n",
       "4             0      False  {'created_at': 'Fri Jan 31 01:27:50 +0000 2020...   \n",
       "\n",
       "                                              source  \\\n",
       "0  <a href=\"http://twitter.com/download/iphone\" r...   \n",
       "1  <a href=\"http://twitter.com/download/iphone\" r...   \n",
       "2  <a href=\"http://twitter.com/download/iphone\" r...   \n",
       "3  <a href=\"http://twitter.com/download/iphone\" r...   \n",
       "4  <a href=\"http://twitter.com/download/iphone\" r...   \n",
       "\n",
       "                                                text  truncated  \\\n",
       "0  RT @CNN: There have been more than 9,800 cases...      False   \n",
       "1  RT @JaneLytv: 43. Zero Hedge, a pro-Trump webs...      False   \n",
       "2  RT @skarlamangla: This flu season has killed 1...      False   \n",
       "3  RT @jamesmassola: Medical experts raise concer...      False   \n",
       "4  RT @popplioikawa: the flu: *results in 500,000...      False   \n",
       "\n",
       "                                                user  \n",
       "0  {'id': 292918761, 'id_str': '292918761', 'name...  \n",
       "1  {'id': 262334207, 'id_str': '262334207', 'name...  \n",
       "2  {'id': 2451840349, 'id_str': '2451840349', 'na...  \n",
       "3  {'id': 513208128, 'id_str': '513208128', 'name...  \n",
       "4  {'id': 993138436667314176, 'id_str': '99313843...  \n",
       "\n",
       "[5 rows x 36 columns]"
      ]
     },
     "execution_count": 21,
     "metadata": {},
     "output_type": "execute_result"
    }
   ],
   "source": [
    "raw_df = pd.read_csv('COVID-tweets.csv')\n",
    "raw_df.head()"
   ]
  },
  {
   "cell_type": "code",
   "execution_count": 22,
   "metadata": {
    "ExecuteTime": {
     "end_time": "2020-10-12T23:35:43.511214Z",
     "start_time": "2020-10-12T23:35:43.494989Z"
    }
   },
   "outputs": [],
   "source": [
    "def evaluate(row):\n",
    "    '''\n",
    "    This function, when applied to\n",
    "    the series containing \n",
    "    dictionary-like strings will \n",
    "    convert each instance to\n",
    "    actual dictionaries and return\n",
    "    the dictionary.\n",
    "    '''\n",
    "    \n",
    "    row = ast.literal_eval(row) \n",
    "    return row"
   ]
  },
  {
   "cell_type": "code",
   "execution_count": 30,
   "metadata": {
    "ExecuteTime": {
     "end_time": "2020-10-12T23:40:23.683579Z",
     "start_time": "2020-10-12T23:40:00.060490Z"
    }
   },
   "outputs": [],
   "source": [
    "# Saving dictionaries in new column\n",
    "exp_df = raw_df.copy()\n",
    "exp_df['expanded'] = exp_df.retweeted_status.dropna().apply(evaluate)\n",
    "\n",
    "# Creating features from dictionary keys in new dataframe\n",
    "expanded_df = exp_df['expanded'].apply(pd.Series)\n",
    "\n",
    "# Again, unnesting another dictionary to get to the full_text column\n",
    "expanded_df = expanded_df.extended_tweet.apply(pd.Series)\n",
    "\n",
    "# Dropping rows corresponding to original tweets (not retweeted text)\n",
    "expanded_df = expanded_df.full_text.dropna()\n",
    "\n",
    "# Joining with original dataframe\n",
    "df = pd.DataFrame.join(exp_df, expanded_df)\n",
    "\n",
    "# Swapping NaNs for original tweets in the full text column\n",
    "df['full_text'].fillna(df['text'],inplace=True)"
   ]
  },
  {
   "cell_type": "code",
   "execution_count": 27,
   "metadata": {
    "ExecuteTime": {
     "end_time": "2020-10-12T23:38:49.976382Z",
     "start_time": "2020-10-12T23:38:49.939735Z"
    }
   },
   "outputs": [],
   "source": [
    "analyzer = SentimentIntensityAnalyzer()\n",
    "\n",
    "def sentiment_score(tweet):\n",
    "    return analyzer.polarity_scores(tweet)"
   ]
  },
  {
   "cell_type": "code",
   "execution_count": 34,
   "metadata": {
    "ExecuteTime": {
     "end_time": "2020-10-12T23:41:26.757618Z",
     "start_time": "2020-10-12T23:41:22.990188Z"
    }
   },
   "outputs": [],
   "source": [
    "df['sentiment'] = df['full_text'].apply(sentiment_score)"
   ]
  },
  {
   "cell_type": "code",
   "execution_count": 35,
   "metadata": {
    "ExecuteTime": {
     "end_time": "2020-10-12T23:41:35.386676Z",
     "start_time": "2020-10-12T23:41:35.379668Z"
    }
   },
   "outputs": [
    {
     "data": {
      "text/plain": [
       "0    {'neg': 0.0, 'neu': 1.0, 'pos': 0.0, 'compound...\n",
       "1    {'neg': 0.096, 'neu': 0.853, 'pos': 0.05, 'com...\n",
       "2    {'neg': 0.429, 'neu': 0.571, 'pos': 0.0, 'comp...\n",
       "3    {'neg': 0.0, 'neu': 0.846, 'pos': 0.154, 'comp...\n",
       "4    {'neg': 0.113, 'neu': 0.845, 'pos': 0.042, 'co...\n",
       "Name: sentiment, dtype: object"
      ]
     },
     "execution_count": 35,
     "metadata": {},
     "output_type": "execute_result"
    }
   ],
   "source": [
    "df['sentiment'].head()"
   ]
  },
  {
   "cell_type": "code",
   "execution_count": 36,
   "metadata": {
    "ExecuteTime": {
     "end_time": "2020-10-12T23:42:42.928714Z",
     "start_time": "2020-10-12T23:42:42.923497Z"
    }
   },
   "outputs": [
    {
     "data": {
      "text/plain": [
       "{'neg': 0.096, 'neu': 0.853, 'pos': 0.05, 'compound': -0.4767}"
      ]
     },
     "execution_count": 36,
     "metadata": {},
     "output_type": "execute_result"
    }
   ],
   "source": [
    "df['sentiment'][1]"
   ]
  },
  {
   "cell_type": "code",
   "execution_count": 38,
   "metadata": {
    "ExecuteTime": {
     "end_time": "2020-10-12T23:52:41.826194Z",
     "start_time": "2020-10-12T23:52:41.812712Z"
    }
   },
   "outputs": [],
   "source": [
    "def polarity_score(scores):\n",
    "    if scores['compound'] >= 0.05:\n",
    "        return 1\n",
    "    elif scores['compound'] >-.05 and scores['compound'] < 0.05:\n",
    "        return .5\n",
    "    else:\n",
    "        return 0\n",
    "    "
   ]
  },
  {
   "cell_type": "code",
   "execution_count": 39,
   "metadata": {
    "ExecuteTime": {
     "end_time": "2020-10-12T23:53:08.802750Z",
     "start_time": "2020-10-12T23:53:08.791635Z"
    }
   },
   "outputs": [],
   "source": [
    "df['polarity'] = df['sentiment'].apply(polarity_score)"
   ]
  },
  {
   "cell_type": "code",
   "execution_count": 41,
   "metadata": {
    "ExecuteTime": {
     "end_time": "2020-10-12T23:56:19.677459Z",
     "start_time": "2020-10-12T23:56:14.322197Z"
    }
   },
   "outputs": [],
   "source": [
    "df.to_csv('tweet_polarity.csv',index=False)"
   ]
  },
  {
   "cell_type": "code",
   "execution_count": null,
   "metadata": {},
   "outputs": [],
   "source": []
  }
 ],
 "metadata": {
  "kernelspec": {
   "display_name": "Python [conda env:.conda-default-env] *",
   "language": "python",
   "name": "conda-env-.conda-default-env-py"
  },
  "language_info": {
   "codemirror_mode": {
    "name": "ipython",
    "version": 3
   },
   "file_extension": ".py",
   "mimetype": "text/x-python",
   "name": "python",
   "nbconvert_exporter": "python",
   "pygments_lexer": "ipython3",
   "version": "3.8.5"
  },
  "toc": {
   "base_numbering": 1,
   "nav_menu": {},
   "number_sections": true,
   "sideBar": true,
   "skip_h1_title": false,
   "title_cell": "Table of Contents",
   "title_sidebar": "Contents",
   "toc_cell": false,
   "toc_position": {},
   "toc_section_display": true,
   "toc_window_display": false
  }
 },
 "nbformat": 4,
 "nbformat_minor": 4
}
