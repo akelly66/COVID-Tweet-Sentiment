{
 "cells": [
  {
   "cell_type": "markdown",
   "metadata": {},
   "source": [
    "# Sentiment Analysis of COVID-19 Tweets: When did the Public Panic Set In?\n",
    "\n",
    "    Notebook by Allison Kelly - allisonkelly42@gmail.com\n",
    "    "
   ]
  },
  {
   "cell_type": "markdown",
   "metadata": {},
   "source": [
    "<img src=\"wesley-tingey-DBu9IrkuPFM-unsplash.jpg\">"
   ]
  },
  {
   "cell_type": "markdown",
   "metadata": {
    "ExecuteTime": {
     "end_time": "2020-05-18T19:33:34.008496Z",
     "start_time": "2020-05-18T19:33:33.999552Z"
    }
   },
   "source": [
    "<b> Documentation to come. </b>"
   ]
  },
  {
   "cell_type": "markdown",
   "metadata": {},
   "source": [
    "# Imports"
   ]
  },
  {
   "cell_type": "code",
   "execution_count": 168,
   "metadata": {
    "ExecuteTime": {
     "end_time": "2020-06-03T21:43:49.974642Z",
     "start_time": "2020-06-03T21:43:49.966005Z"
    }
   },
   "outputs": [],
   "source": [
    "%matplotlib inline\n",
    "\n",
    "# Generic Imports\n",
    "import pandas as pd\n",
    "import numpy as np\n",
    "import matplotlib.pyplot as plt\n",
    "from datetime import datetime, time\n",
    "\n",
    "# Get JSON\n",
    "import json\n",
    "\n",
    "# Text preprocessing libraries\n",
    "import string\n",
    "import contractions\n",
    "import re\n",
    "from nltk.tokenize import word_tokenize\n",
    "from nltk.corpus import stopwords, wordnet\n",
    "from nltk.stem import WordNetLemmatizer"
   ]
  },
  {
   "cell_type": "markdown",
   "metadata": {},
   "source": [
    "# Obtain Data\n",
    "\n",
    "View method to obtain data <a href=\"https://github.com/akelly66/COVID-Tweet-Sentiment/blob/master/tweet-scraping/COVID-tweets-true.ipynb\">here</a>. <br>\n",
    "<br>The tweet query parameters were as follows:\n",
    "\n",
    "- <b>Keywords: </b> \"coronavirus OR Wuhan virus OR 2019-nCoV OR China flu\"<br>\n",
    "- <b>Date Range: </b> 28 Jan 2020 - 03 Feb 2020<br>\n",
    "- <b>Location:</b> United States of America<br><br>\n"
   ]
  },
  {
   "cell_type": "code",
   "execution_count": 327,
   "metadata": {
    "ExecuteTime": {
     "end_time": "2020-06-06T21:28:55.534968Z",
     "start_time": "2020-06-06T21:28:54.920157Z"
    },
    "scrolled": true
   },
   "outputs": [
    {
     "data": {
      "text/html": [
       "<div>\n",
       "<style scoped>\n",
       "    .dataframe tbody tr th:only-of-type {\n",
       "        vertical-align: middle;\n",
       "    }\n",
       "\n",
       "    .dataframe tbody tr th {\n",
       "        vertical-align: top;\n",
       "    }\n",
       "\n",
       "    .dataframe thead th {\n",
       "        text-align: right;\n",
       "    }\n",
       "</style>\n",
       "<table border=\"1\" class=\"dataframe\">\n",
       "  <thead>\n",
       "    <tr style=\"text-align: right;\">\n",
       "      <th></th>\n",
       "      <th>created_at</th>\n",
       "      <th>id</th>\n",
       "      <th>id_str</th>\n",
       "      <th>text</th>\n",
       "      <th>source</th>\n",
       "      <th>truncated</th>\n",
       "      <th>in_reply_to_status_id</th>\n",
       "      <th>in_reply_to_status_id_str</th>\n",
       "      <th>in_reply_to_user_id</th>\n",
       "      <th>in_reply_to_user_id_str</th>\n",
       "      <th>...</th>\n",
       "      <th>lang</th>\n",
       "      <th>matching_rules</th>\n",
       "      <th>possibly_sensitive</th>\n",
       "      <th>quoted_status_id</th>\n",
       "      <th>quoted_status_id_str</th>\n",
       "      <th>quoted_status</th>\n",
       "      <th>quoted_status_permalink</th>\n",
       "      <th>display_text_range</th>\n",
       "      <th>extended_tweet</th>\n",
       "      <th>extended_entities</th>\n",
       "    </tr>\n",
       "  </thead>\n",
       "  <tbody>\n",
       "    <tr>\n",
       "      <th>1</th>\n",
       "      <td>Sun Feb 02 23:59:59 +0000 2020</td>\n",
       "      <td>1224120307717410816</td>\n",
       "      <td>1224120307717410816</td>\n",
       "      <td>RT @QuestForSense: Amazing Timelapse as China ...</td>\n",
       "      <td>&lt;a href=\"http://twitter.com/download/android\" ...</td>\n",
       "      <td>False</td>\n",
       "      <td>NaN</td>\n",
       "      <td>NaN</td>\n",
       "      <td>NaN</td>\n",
       "      <td>NaN</td>\n",
       "      <td>...</td>\n",
       "      <td>en</td>\n",
       "      <td>[{'tag': None}]</td>\n",
       "      <td>NaN</td>\n",
       "      <td>NaN</td>\n",
       "      <td>NaN</td>\n",
       "      <td>NaN</td>\n",
       "      <td>NaN</td>\n",
       "      <td>NaN</td>\n",
       "      <td>NaN</td>\n",
       "      <td>NaN</td>\n",
       "    </tr>\n",
       "    <tr>\n",
       "      <th>2</th>\n",
       "      <td>Sun Feb 02 23:59:58 +0000 2020</td>\n",
       "      <td>1224120306668883971</td>\n",
       "      <td>1224120306668883971</td>\n",
       "      <td>RT @selinawangtv: Bloomberg SCOOP on #coronavi...</td>\n",
       "      <td>&lt;a href=\"http://twitter.com/#!/download/ipad\" ...</td>\n",
       "      <td>False</td>\n",
       "      <td>NaN</td>\n",
       "      <td>NaN</td>\n",
       "      <td>NaN</td>\n",
       "      <td>NaN</td>\n",
       "      <td>...</td>\n",
       "      <td>en</td>\n",
       "      <td>[{'tag': None}]</td>\n",
       "      <td>NaN</td>\n",
       "      <td>NaN</td>\n",
       "      <td>NaN</td>\n",
       "      <td>NaN</td>\n",
       "      <td>NaN</td>\n",
       "      <td>NaN</td>\n",
       "      <td>NaN</td>\n",
       "      <td>NaN</td>\n",
       "    </tr>\n",
       "    <tr>\n",
       "      <th>3</th>\n",
       "      <td>Sun Feb 02 23:59:58 +0000 2020</td>\n",
       "      <td>1224120305431375872</td>\n",
       "      <td>1224120305431375872</td>\n",
       "      <td>RT @Marfoogle: I have become Ill. But no worri...</td>\n",
       "      <td>&lt;a href=\"http://twitter.com/download/android\" ...</td>\n",
       "      <td>False</td>\n",
       "      <td>NaN</td>\n",
       "      <td>NaN</td>\n",
       "      <td>NaN</td>\n",
       "      <td>NaN</td>\n",
       "      <td>...</td>\n",
       "      <td>en</td>\n",
       "      <td>[{'tag': None}]</td>\n",
       "      <td>NaN</td>\n",
       "      <td>NaN</td>\n",
       "      <td>NaN</td>\n",
       "      <td>NaN</td>\n",
       "      <td>NaN</td>\n",
       "      <td>NaN</td>\n",
       "      <td>NaN</td>\n",
       "      <td>NaN</td>\n",
       "    </tr>\n",
       "    <tr>\n",
       "      <th>4</th>\n",
       "      <td>Sun Feb 02 23:59:58 +0000 2020</td>\n",
       "      <td>1224120305322467329</td>\n",
       "      <td>1224120305322467329</td>\n",
       "      <td>RT @NPRHealth: U.S. Hospitals Unprepared For A...</td>\n",
       "      <td>&lt;a href=\"http://twitter.com/#!/download/ipad\" ...</td>\n",
       "      <td>False</td>\n",
       "      <td>NaN</td>\n",
       "      <td>NaN</td>\n",
       "      <td>NaN</td>\n",
       "      <td>NaN</td>\n",
       "      <td>...</td>\n",
       "      <td>en</td>\n",
       "      <td>[{'tag': None}]</td>\n",
       "      <td>False</td>\n",
       "      <td>NaN</td>\n",
       "      <td>NaN</td>\n",
       "      <td>NaN</td>\n",
       "      <td>NaN</td>\n",
       "      <td>NaN</td>\n",
       "      <td>NaN</td>\n",
       "      <td>NaN</td>\n",
       "    </tr>\n",
       "    <tr>\n",
       "      <th>5</th>\n",
       "      <td>Sun Feb 02 23:59:58 +0000 2020</td>\n",
       "      <td>1224120304731029504</td>\n",
       "      <td>1224120304731029504</td>\n",
       "      <td>RT @SecAzar: At this time, the risk to America...</td>\n",
       "      <td>&lt;a href=\"http://twitter.com/download/android\" ...</td>\n",
       "      <td>False</td>\n",
       "      <td>NaN</td>\n",
       "      <td>NaN</td>\n",
       "      <td>NaN</td>\n",
       "      <td>NaN</td>\n",
       "      <td>...</td>\n",
       "      <td>en</td>\n",
       "      <td>[{'tag': None}]</td>\n",
       "      <td>NaN</td>\n",
       "      <td>1.223347e+18</td>\n",
       "      <td>1.223347e+18</td>\n",
       "      <td>{'created_at': 'Fri Jan 31 20:47:02 +0000 2020...</td>\n",
       "      <td>{'url': 'https://t.co/eb4YN1H7QN', 'expanded':...</td>\n",
       "      <td>NaN</td>\n",
       "      <td>NaN</td>\n",
       "      <td>NaN</td>\n",
       "    </tr>\n",
       "  </tbody>\n",
       "</table>\n",
       "<p>5 rows × 36 columns</p>\n",
       "</div>"
      ],
      "text/plain": [
       "                       created_at                   id               id_str  \\\n",
       "1  Sun Feb 02 23:59:59 +0000 2020  1224120307717410816  1224120307717410816   \n",
       "2  Sun Feb 02 23:59:58 +0000 2020  1224120306668883971  1224120306668883971   \n",
       "3  Sun Feb 02 23:59:58 +0000 2020  1224120305431375872  1224120305431375872   \n",
       "4  Sun Feb 02 23:59:58 +0000 2020  1224120305322467329  1224120305322467329   \n",
       "5  Sun Feb 02 23:59:58 +0000 2020  1224120304731029504  1224120304731029504   \n",
       "\n",
       "                                                text  \\\n",
       "1  RT @QuestForSense: Amazing Timelapse as China ...   \n",
       "2  RT @selinawangtv: Bloomberg SCOOP on #coronavi...   \n",
       "3  RT @Marfoogle: I have become Ill. But no worri...   \n",
       "4  RT @NPRHealth: U.S. Hospitals Unprepared For A...   \n",
       "5  RT @SecAzar: At this time, the risk to America...   \n",
       "\n",
       "                                              source  truncated  \\\n",
       "1  <a href=\"http://twitter.com/download/android\" ...      False   \n",
       "2  <a href=\"http://twitter.com/#!/download/ipad\" ...      False   \n",
       "3  <a href=\"http://twitter.com/download/android\" ...      False   \n",
       "4  <a href=\"http://twitter.com/#!/download/ipad\" ...      False   \n",
       "5  <a href=\"http://twitter.com/download/android\" ...      False   \n",
       "\n",
       "   in_reply_to_status_id  in_reply_to_status_id_str  in_reply_to_user_id  \\\n",
       "1                    NaN                        NaN                  NaN   \n",
       "2                    NaN                        NaN                  NaN   \n",
       "3                    NaN                        NaN                  NaN   \n",
       "4                    NaN                        NaN                  NaN   \n",
       "5                    NaN                        NaN                  NaN   \n",
       "\n",
       "   in_reply_to_user_id_str  ... lang   matching_rules possibly_sensitive  \\\n",
       "1                      NaN  ...   en  [{'tag': None}]                NaN   \n",
       "2                      NaN  ...   en  [{'tag': None}]                NaN   \n",
       "3                      NaN  ...   en  [{'tag': None}]                NaN   \n",
       "4                      NaN  ...   en  [{'tag': None}]              False   \n",
       "5                      NaN  ...   en  [{'tag': None}]                NaN   \n",
       "\n",
       "  quoted_status_id quoted_status_id_str  \\\n",
       "1              NaN                  NaN   \n",
       "2              NaN                  NaN   \n",
       "3              NaN                  NaN   \n",
       "4              NaN                  NaN   \n",
       "5     1.223347e+18         1.223347e+18   \n",
       "\n",
       "                                       quoted_status  \\\n",
       "1                                                NaN   \n",
       "2                                                NaN   \n",
       "3                                                NaN   \n",
       "4                                                NaN   \n",
       "5  {'created_at': 'Fri Jan 31 20:47:02 +0000 2020...   \n",
       "\n",
       "                             quoted_status_permalink  display_text_range  \\\n",
       "1                                                NaN                 NaN   \n",
       "2                                                NaN                 NaN   \n",
       "3                                                NaN                 NaN   \n",
       "4                                                NaN                 NaN   \n",
       "5  {'url': 'https://t.co/eb4YN1H7QN', 'expanded':...                 NaN   \n",
       "\n",
       "   extended_tweet  extended_entities  \n",
       "1             NaN                NaN  \n",
       "2             NaN                NaN  \n",
       "3             NaN                NaN  \n",
       "4             NaN                NaN  \n",
       "5             NaN                NaN  \n",
       "\n",
       "[5 rows x 36 columns]"
      ]
     },
     "execution_count": 327,
     "metadata": {},
     "output_type": "execute_result"
    }
   ],
   "source": [
    "df = pd.read_csv(\"expanded_query_tweets.csv\")\n",
    "df.drop_duplicates(inplace=True)\n",
    "df = df.query(\"lang == 'en'\")\n",
    "df.head()"
   ]
  },
  {
   "cell_type": "code",
   "execution_count": 242,
   "metadata": {
    "ExecuteTime": {
     "end_time": "2020-06-06T21:00:29.688453Z",
     "start_time": "2020-06-06T21:00:29.582634Z"
    },
    "scrolled": false
   },
   "outputs": [
    {
     "name": "stdout",
     "output_type": "stream",
     "text": [
      "2375\n",
      "<class 'pandas.core.frame.DataFrame'>\n",
      "Int64Index: 2375 entries, 1 to 4396\n",
      "Data columns (total 36 columns):\n",
      " #   Column                     Non-Null Count  Dtype  \n",
      "---  ------                     --------------  -----  \n",
      " 0   created_at                 2375 non-null   object \n",
      " 1   id                         2375 non-null   int64  \n",
      " 2   id_str                     2375 non-null   int64  \n",
      " 3   text                       2375 non-null   object \n",
      " 4   source                     2375 non-null   object \n",
      " 5   truncated                  2375 non-null   bool   \n",
      " 6   in_reply_to_status_id      108 non-null    float64\n",
      " 7   in_reply_to_status_id_str  108 non-null    float64\n",
      " 8   in_reply_to_user_id        117 non-null    float64\n",
      " 9   in_reply_to_user_id_str    117 non-null    float64\n",
      " 10  in_reply_to_screen_name    112 non-null    object \n",
      " 11  user                       2375 non-null   object \n",
      " 12  geo                        0 non-null      object \n",
      " 13  coordinates                0 non-null      object \n",
      " 14  place                      11 non-null     object \n",
      " 15  contributors               0 non-null      float64\n",
      " 16  retweeted_status           1929 non-null   object \n",
      " 17  is_quote_status            2375 non-null   bool   \n",
      " 18  quote_count                2375 non-null   int64  \n",
      " 19  reply_count                2375 non-null   int64  \n",
      " 20  retweet_count              2375 non-null   int64  \n",
      " 21  favorite_count             2375 non-null   int64  \n",
      " 22  entities                   2375 non-null   object \n",
      " 23  favorited                  2375 non-null   bool   \n",
      " 24  retweeted                  2375 non-null   bool   \n",
      " 25  filter_level               2375 non-null   object \n",
      " 26  lang                       2375 non-null   object \n",
      " 27  matching_rules             2375 non-null   object \n",
      " 28  possibly_sensitive         663 non-null    object \n",
      " 29  quoted_status_id           189 non-null    float64\n",
      " 30  quoted_status_id_str       189 non-null    float64\n",
      " 31  quoted_status              163 non-null    object \n",
      " 32  quoted_status_permalink    163 non-null    object \n",
      " 33  display_text_range         190 non-null    object \n",
      " 34  extended_tweet             174 non-null    object \n",
      " 35  extended_entities          176 non-null    object \n",
      "dtypes: bool(4), float64(7), int64(6), object(19)\n",
      "memory usage: 621.6+ KB\n",
      "None\n"
     ]
    },
    {
     "data": {
      "text/html": [
       "<div>\n",
       "<style scoped>\n",
       "    .dataframe tbody tr th:only-of-type {\n",
       "        vertical-align: middle;\n",
       "    }\n",
       "\n",
       "    .dataframe tbody tr th {\n",
       "        vertical-align: top;\n",
       "    }\n",
       "\n",
       "    .dataframe thead th {\n",
       "        text-align: right;\n",
       "    }\n",
       "</style>\n",
       "<table border=\"1\" class=\"dataframe\">\n",
       "  <thead>\n",
       "    <tr style=\"text-align: right;\">\n",
       "      <th></th>\n",
       "      <th>id</th>\n",
       "      <th>id_str</th>\n",
       "      <th>in_reply_to_status_id</th>\n",
       "      <th>in_reply_to_status_id_str</th>\n",
       "      <th>in_reply_to_user_id</th>\n",
       "      <th>in_reply_to_user_id_str</th>\n",
       "      <th>contributors</th>\n",
       "      <th>quote_count</th>\n",
       "      <th>reply_count</th>\n",
       "      <th>retweet_count</th>\n",
       "      <th>favorite_count</th>\n",
       "      <th>quoted_status_id</th>\n",
       "      <th>quoted_status_id_str</th>\n",
       "    </tr>\n",
       "  </thead>\n",
       "  <tbody>\n",
       "    <tr>\n",
       "      <th>count</th>\n",
       "      <td>2.375000e+03</td>\n",
       "      <td>2.375000e+03</td>\n",
       "      <td>1.080000e+02</td>\n",
       "      <td>1.080000e+02</td>\n",
       "      <td>1.170000e+02</td>\n",
       "      <td>1.170000e+02</td>\n",
       "      <td>0.0</td>\n",
       "      <td>2375.000000</td>\n",
       "      <td>2375.000000</td>\n",
       "      <td>2375.000000</td>\n",
       "      <td>2375.000000</td>\n",
       "      <td>1.890000e+02</td>\n",
       "      <td>1.890000e+02</td>\n",
       "    </tr>\n",
       "    <tr>\n",
       "      <th>mean</th>\n",
       "      <td>1.223425e+18</td>\n",
       "      <td>1.223425e+18</td>\n",
       "      <td>1.223349e+18</td>\n",
       "      <td>1.223349e+18</td>\n",
       "      <td>2.647967e+17</td>\n",
       "      <td>2.647967e+17</td>\n",
       "      <td>NaN</td>\n",
       "      <td>0.065684</td>\n",
       "      <td>0.134737</td>\n",
       "      <td>0.506526</td>\n",
       "      <td>1.038316</td>\n",
       "      <td>1.222812e+18</td>\n",
       "      <td>1.222812e+18</td>\n",
       "    </tr>\n",
       "    <tr>\n",
       "      <th>std</th>\n",
       "      <td>1.450457e+14</td>\n",
       "      <td>1.450457e+14</td>\n",
       "      <td>2.524461e+14</td>\n",
       "      <td>2.524461e+14</td>\n",
       "      <td>4.316935e+17</td>\n",
       "      <td>4.316935e+17</td>\n",
       "      <td>NaN</td>\n",
       "      <td>1.009173</td>\n",
       "      <td>1.312387</td>\n",
       "      <td>6.461853</td>\n",
       "      <td>9.356226</td>\n",
       "      <td>2.511830e+15</td>\n",
       "      <td>2.511830e+15</td>\n",
       "    </tr>\n",
       "    <tr>\n",
       "      <th>min</th>\n",
       "      <td>1.223394e+18</td>\n",
       "      <td>1.223394e+18</td>\n",
       "      <td>1.221944e+18</td>\n",
       "      <td>1.221944e+18</td>\n",
       "      <td>7.867640e+05</td>\n",
       "      <td>7.867640e+05</td>\n",
       "      <td>NaN</td>\n",
       "      <td>0.000000</td>\n",
       "      <td>0.000000</td>\n",
       "      <td>0.000000</td>\n",
       "      <td>0.000000</td>\n",
       "      <td>1.190002e+18</td>\n",
       "      <td>1.190002e+18</td>\n",
       "    </tr>\n",
       "    <tr>\n",
       "      <th>25%</th>\n",
       "      <td>1.223394e+18</td>\n",
       "      <td>1.223394e+18</td>\n",
       "      <td>1.223345e+18</td>\n",
       "      <td>1.223345e+18</td>\n",
       "      <td>7.054162e+07</td>\n",
       "      <td>7.054162e+07</td>\n",
       "      <td>NaN</td>\n",
       "      <td>0.000000</td>\n",
       "      <td>0.000000</td>\n",
       "      <td>0.000000</td>\n",
       "      <td>0.000000</td>\n",
       "      <td>1.222912e+18</td>\n",
       "      <td>1.222912e+18</td>\n",
       "    </tr>\n",
       "    <tr>\n",
       "      <th>50%</th>\n",
       "      <td>1.223395e+18</td>\n",
       "      <td>1.223395e+18</td>\n",
       "      <td>1.223391e+18</td>\n",
       "      <td>1.223391e+18</td>\n",
       "      <td>1.344897e+09</td>\n",
       "      <td>1.344897e+09</td>\n",
       "      <td>NaN</td>\n",
       "      <td>0.000000</td>\n",
       "      <td>0.000000</td>\n",
       "      <td>0.000000</td>\n",
       "      <td>0.000000</td>\n",
       "      <td>1.223229e+18</td>\n",
       "      <td>1.223229e+18</td>\n",
       "    </tr>\n",
       "    <tr>\n",
       "      <th>75%</th>\n",
       "      <td>1.223395e+18</td>\n",
       "      <td>1.223395e+18</td>\n",
       "      <td>1.223393e+18</td>\n",
       "      <td>1.223393e+18</td>\n",
       "      <td>7.302201e+17</td>\n",
       "      <td>7.302201e+17</td>\n",
       "      <td>NaN</td>\n",
       "      <td>0.000000</td>\n",
       "      <td>0.000000</td>\n",
       "      <td>0.000000</td>\n",
       "      <td>0.000000</td>\n",
       "      <td>1.223373e+18</td>\n",
       "      <td>1.223373e+18</td>\n",
       "    </tr>\n",
       "    <tr>\n",
       "      <th>max</th>\n",
       "      <td>1.224120e+18</td>\n",
       "      <td>1.224120e+18</td>\n",
       "      <td>1.224119e+18</td>\n",
       "      <td>1.224119e+18</td>\n",
       "      <td>1.202716e+18</td>\n",
       "      <td>1.202716e+18</td>\n",
       "      <td>NaN</td>\n",
       "      <td>37.000000</td>\n",
       "      <td>36.000000</td>\n",
       "      <td>176.000000</td>\n",
       "      <td>218.000000</td>\n",
       "      <td>1.224101e+18</td>\n",
       "      <td>1.224101e+18</td>\n",
       "    </tr>\n",
       "  </tbody>\n",
       "</table>\n",
       "</div>"
      ],
      "text/plain": [
       "                 id        id_str  in_reply_to_status_id  \\\n",
       "count  2.375000e+03  2.375000e+03           1.080000e+02   \n",
       "mean   1.223425e+18  1.223425e+18           1.223349e+18   \n",
       "std    1.450457e+14  1.450457e+14           2.524461e+14   \n",
       "min    1.223394e+18  1.223394e+18           1.221944e+18   \n",
       "25%    1.223394e+18  1.223394e+18           1.223345e+18   \n",
       "50%    1.223395e+18  1.223395e+18           1.223391e+18   \n",
       "75%    1.223395e+18  1.223395e+18           1.223393e+18   \n",
       "max    1.224120e+18  1.224120e+18           1.224119e+18   \n",
       "\n",
       "       in_reply_to_status_id_str  in_reply_to_user_id  \\\n",
       "count               1.080000e+02         1.170000e+02   \n",
       "mean                1.223349e+18         2.647967e+17   \n",
       "std                 2.524461e+14         4.316935e+17   \n",
       "min                 1.221944e+18         7.867640e+05   \n",
       "25%                 1.223345e+18         7.054162e+07   \n",
       "50%                 1.223391e+18         1.344897e+09   \n",
       "75%                 1.223393e+18         7.302201e+17   \n",
       "max                 1.224119e+18         1.202716e+18   \n",
       "\n",
       "       in_reply_to_user_id_str  contributors  quote_count  reply_count  \\\n",
       "count             1.170000e+02           0.0  2375.000000  2375.000000   \n",
       "mean              2.647967e+17           NaN     0.065684     0.134737   \n",
       "std               4.316935e+17           NaN     1.009173     1.312387   \n",
       "min               7.867640e+05           NaN     0.000000     0.000000   \n",
       "25%               7.054162e+07           NaN     0.000000     0.000000   \n",
       "50%               1.344897e+09           NaN     0.000000     0.000000   \n",
       "75%               7.302201e+17           NaN     0.000000     0.000000   \n",
       "max               1.202716e+18           NaN    37.000000    36.000000   \n",
       "\n",
       "       retweet_count  favorite_count  quoted_status_id  quoted_status_id_str  \n",
       "count    2375.000000     2375.000000      1.890000e+02          1.890000e+02  \n",
       "mean        0.506526        1.038316      1.222812e+18          1.222812e+18  \n",
       "std         6.461853        9.356226      2.511830e+15          2.511830e+15  \n",
       "min         0.000000        0.000000      1.190002e+18          1.190002e+18  \n",
       "25%         0.000000        0.000000      1.222912e+18          1.222912e+18  \n",
       "50%         0.000000        0.000000      1.223229e+18          1.223229e+18  \n",
       "75%         0.000000        0.000000      1.223373e+18          1.223373e+18  \n",
       "max       176.000000      218.000000      1.224101e+18          1.224101e+18  "
      ]
     },
     "execution_count": 242,
     "metadata": {},
     "output_type": "execute_result"
    }
   ],
   "source": [
    "print(len(df))\n",
    "print(df.info())\n",
    "df.describe()"
   ]
  },
  {
   "cell_type": "code",
   "execution_count": 329,
   "metadata": {
    "ExecuteTime": {
     "end_time": "2020-06-06T21:30:35.422806Z",
     "start_time": "2020-06-06T21:30:35.410930Z"
    }
   },
   "outputs": [],
   "source": [
    "import ast\n",
    "test = ast.literal_eval(df.retweeted_status[1])"
   ]
  },
  {
   "cell_type": "code",
   "execution_count": 334,
   "metadata": {
    "ExecuteTime": {
     "end_time": "2020-06-06T21:31:59.509204Z",
     "start_time": "2020-06-06T21:31:59.498867Z"
    }
   },
   "outputs": [
    {
     "data": {
      "text/plain": [
       "'Amazing Timelapse as China Completes First of Two Hospitals in Wuhan within 10 days having 1,000 beds and 1,400 medical staff to treat those infected with the #coronavirus #CoronavirusOutbreak https://t.co/2LH0xhNsHf'"
      ]
     },
     "execution_count": 334,
     "metadata": {},
     "output_type": "execute_result"
    }
   ],
   "source": [
    "test['extended_tweet']['full_text']"
   ]
  },
  {
   "cell_type": "markdown",
   "metadata": {},
   "source": [
    "# Preprocess Tweets"
   ]
  },
  {
   "cell_type": "markdown",
   "metadata": {},
   "source": [
    "The preprocessing portion of this project will only include processing text data, so we'll single out that column now. Further preprocessing on the full dataset will be included in the following section. "
   ]
  },
  {
   "cell_type": "code",
   "execution_count": 160,
   "metadata": {
    "ExecuteTime": {
     "end_time": "2020-06-03T21:38:44.746583Z",
     "start_time": "2020-06-03T21:38:44.731900Z"
    },
    "scrolled": true
   },
   "outputs": [
    {
     "data": {
      "text/html": [
       "<div>\n",
       "<style scoped>\n",
       "    .dataframe tbody tr th:only-of-type {\n",
       "        vertical-align: middle;\n",
       "    }\n",
       "\n",
       "    .dataframe tbody tr th {\n",
       "        vertical-align: top;\n",
       "    }\n",
       "\n",
       "    .dataframe thead th {\n",
       "        text-align: right;\n",
       "    }\n",
       "</style>\n",
       "<table border=\"1\" class=\"dataframe\">\n",
       "  <thead>\n",
       "    <tr style=\"text-align: right;\">\n",
       "      <th></th>\n",
       "      <th>created_at</th>\n",
       "      <th>text</th>\n",
       "    </tr>\n",
       "  </thead>\n",
       "  <tbody>\n",
       "    <tr>\n",
       "      <th>1</th>\n",
       "      <td>Sun Feb 02 23:59:59 +0000 2020</td>\n",
       "      <td>RT @QuestForSense: Amazing Timelapse as China ...</td>\n",
       "    </tr>\n",
       "    <tr>\n",
       "      <th>2</th>\n",
       "      <td>Sun Feb 02 23:59:58 +0000 2020</td>\n",
       "      <td>RT @selinawangtv: Bloomberg SCOOP on #coronavi...</td>\n",
       "    </tr>\n",
       "    <tr>\n",
       "      <th>3</th>\n",
       "      <td>Sun Feb 02 23:59:58 +0000 2020</td>\n",
       "      <td>RT @Marfoogle: I have become Ill. But no worri...</td>\n",
       "    </tr>\n",
       "    <tr>\n",
       "      <th>4</th>\n",
       "      <td>Sun Feb 02 23:59:58 +0000 2020</td>\n",
       "      <td>RT @NPRHealth: U.S. Hospitals Unprepared For A...</td>\n",
       "    </tr>\n",
       "    <tr>\n",
       "      <th>5</th>\n",
       "      <td>Sun Feb 02 23:59:58 +0000 2020</td>\n",
       "      <td>RT @SecAzar: At this time, the risk to America...</td>\n",
       "    </tr>\n",
       "  </tbody>\n",
       "</table>\n",
       "</div>"
      ],
      "text/plain": [
       "                       created_at  \\\n",
       "1  Sun Feb 02 23:59:59 +0000 2020   \n",
       "2  Sun Feb 02 23:59:58 +0000 2020   \n",
       "3  Sun Feb 02 23:59:58 +0000 2020   \n",
       "4  Sun Feb 02 23:59:58 +0000 2020   \n",
       "5  Sun Feb 02 23:59:58 +0000 2020   \n",
       "\n",
       "                                                text  \n",
       "1  RT @QuestForSense: Amazing Timelapse as China ...  \n",
       "2  RT @selinawangtv: Bloomberg SCOOP on #coronavi...  \n",
       "3  RT @Marfoogle: I have become Ill. But no worri...  \n",
       "4  RT @NPRHealth: U.S. Hospitals Unprepared For A...  \n",
       "5  RT @SecAzar: At this time, the risk to America...  "
      ]
     },
     "execution_count": 160,
     "metadata": {},
     "output_type": "execute_result"
    }
   ],
   "source": [
    "tweet_df = df.loc[:,['created_at','text']]\n",
    "tweet_df.head()"
   ]
  },
  {
   "cell_type": "code",
   "execution_count": 216,
   "metadata": {
    "ExecuteTime": {
     "end_time": "2020-06-06T20:21:22.372155Z",
     "start_time": "2020-06-06T20:21:22.348197Z"
    },
    "scrolled": true
   },
   "outputs": [
    {
     "data": {
      "text/plain": [
       "['rt questforsense amazing timelapse as china completes first of two hospitals in wuhan within 10 days having 1000 beds and 1400 medical']"
      ]
     },
     "execution_count": 216,
     "metadata": {},
     "output_type": "execute_result"
    }
   ],
   "source": [
    "def clean_tweet(tweet):\n",
    "    \n",
    "    '''\n",
    "    This function takes a tweet variable,\n",
    "    removes punctuation and linebreaks,\n",
    "    sets all words to lowercase, and \n",
    "    returns the cleaned tweet as a single\n",
    "    variable list.\n",
    "    '''\n",
    "    \n",
    "    # Grabbing most common punctuation symbols and ellipsis symbol\n",
    "    punctuation_list = list(string.punctuation) + [\"…\"]\n",
    "    cleaned_tweet = []\n",
    "    \n",
    "    for symbol in punctuation_list:\n",
    "        tweet = tweet.replace(symbol, \"\").lower()\n",
    "        tweet = tweet.rstrip()\n",
    "      \n",
    "    cleaned_tweet.append(tweet)\n",
    "    \n",
    "    return cleaned_tweet\n",
    "\n",
    "cleaned_tweet_test = clean_tweet(tweet_df.text[1])\n",
    "cleaned_tweet_test        "
   ]
  },
  {
   "cell_type": "code",
   "execution_count": 177,
   "metadata": {
    "ExecuteTime": {
     "end_time": "2020-06-03T21:45:49.603715Z",
     "start_time": "2020-06-03T21:45:49.594585Z"
    }
   },
   "outputs": [
    {
     "data": {
      "text/plain": [
       "['rt',\n",
       " 'questforsense',\n",
       " 'amazing',\n",
       " 'timelapse',\n",
       " 'as',\n",
       " 'china',\n",
       " 'completes',\n",
       " 'first',\n",
       " 'of',\n",
       " 'two',\n",
       " 'hospitals',\n",
       " 'in',\n",
       " 'wuhan',\n",
       " 'within',\n",
       " '10',\n",
       " 'days',\n",
       " 'having',\n",
       " '1000',\n",
       " 'beds',\n",
       " 'and',\n",
       " '1400',\n",
       " 'medical']"
      ]
     },
     "execution_count": 177,
     "metadata": {},
     "output_type": "execute_result"
    }
   ],
   "source": [
    "def tokenize(clean_tweet):\n",
    "    \n",
    "    '''\n",
    "    This function takes a cleaned tweet,\n",
    "    joins into one string (if not already),\n",
    "    runs the tweet through NLTK work tokenizer\n",
    "    and returns the tokenized tweet in \n",
    "    list format.\n",
    "    '''\n",
    "        \n",
    "    joined_tweet = ' '.join(clean_tweet)\n",
    "    tokenized_tweet = word_tokenize(joined_tweet)\n",
    "    return tokenized_tweet\n",
    "\n",
    "tokenized_tweet_test = tokenize(cleaned_tweet_test)\n",
    "tokenized_tweet_test"
   ]
  },
  {
   "cell_type": "markdown",
   "metadata": {},
   "source": [
    "# Exploratory Data Analysis"
   ]
  },
  {
   "cell_type": "code",
   "execution_count": 86,
   "metadata": {
    "ExecuteTime": {
     "end_time": "2020-06-03T17:07:57.206383Z",
     "start_time": "2020-06-03T17:07:57.197622Z"
    }
   },
   "outputs": [],
   "source": [
    "# Drop geo and contributer data\n",
    "df.drop(['geo', 'coordinates', 'place', 'contributors'], axis=1, inplace=True)"
   ]
  },
  {
   "cell_type": "code",
   "execution_count": 87,
   "metadata": {
    "ExecuteTime": {
     "end_time": "2020-06-03T17:07:57.902575Z",
     "start_time": "2020-06-03T17:07:57.883571Z"
    }
   },
   "outputs": [],
   "source": [
    "df.drop(['id','id_str','source'], axis=1,inplace=True)"
   ]
  },
  {
   "cell_type": "code",
   "execution_count": 88,
   "metadata": {
    "ExecuteTime": {
     "end_time": "2020-06-03T17:07:59.100763Z",
     "start_time": "2020-06-03T17:07:59.012046Z"
    }
   },
   "outputs": [],
   "source": [
    "df.created_at = df.created_at.astype(str)\n",
    "df.created_at = pd.to_datetime(df.created_at)"
   ]
  },
  {
   "cell_type": "markdown",
   "metadata": {},
   "source": [
    "As seen below, the earliest date from this set of tweets is January 31, though once my request limits reset, I'll be able to get (hopefully) the rest of the tweets dating back to January 28."
   ]
  },
  {
   "cell_type": "code",
   "execution_count": 89,
   "metadata": {
    "ExecuteTime": {
     "end_time": "2020-06-03T17:08:01.721968Z",
     "start_time": "2020-06-03T17:08:01.713276Z"
    }
   },
   "outputs": [
    {
     "data": {
      "text/plain": [
       "Timestamp('2020-01-31 23:54:30+0000', tz='UTC')"
      ]
     },
     "execution_count": 89,
     "metadata": {},
     "output_type": "execute_result"
    }
   ],
   "source": [
    "df.created_at.min()"
   ]
  },
  {
   "cell_type": "code",
   "execution_count": null,
   "metadata": {},
   "outputs": [],
   "source": [
    "b"
   ]
  }
 ],
 "metadata": {
  "kernelspec": {
   "display_name": "Python 3",
   "language": "python",
   "name": "python3"
  },
  "language_info": {
   "codemirror_mode": {
    "name": "ipython",
    "version": 3
   },
   "file_extension": ".py",
   "mimetype": "text/x-python",
   "name": "python",
   "nbconvert_exporter": "python",
   "pygments_lexer": "ipython3",
   "version": "3.7.3"
  },
  "toc": {
   "base_numbering": 1,
   "nav_menu": {},
   "number_sections": true,
   "sideBar": true,
   "skip_h1_title": false,
   "title_cell": "Table of Contents",
   "title_sidebar": "Contents",
   "toc_cell": false,
   "toc_position": {},
   "toc_section_display": true,
   "toc_window_display": false
  }
 },
 "nbformat": 4,
 "nbformat_minor": 4
}
